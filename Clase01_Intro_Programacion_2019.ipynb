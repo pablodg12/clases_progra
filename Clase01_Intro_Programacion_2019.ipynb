{
 "cells": [
  {
   "cell_type": "markdown",
   "metadata": {
    "colab_type": "text",
    "id": "KnAJIAL4sqXc",
    "slideshow": {
     "slide_type": "slide"
    }
   },
   "source": [
    "# <img src=\"images/di.png\" alt=\"\" width=\"200px\" align=\"left\"/>\n",
    "<img src=\"images/utfsm.png\" alt=\"\" width=\"150px\" align=\"right\"/>\n",
    "\n",
    "<br/>\n",
    "<div align=\"center\">\n",
    "<h1>IWI131 Programación</h1><br/>\n",
    "<h2>Introducción a la Programación</h2>\n",
    "<br/><br/>\n",
    "Departamento de Informática<br/>\n",
    "Universidad Técnica Federico Santa María\n",
    "</div>"
   ]
  },
  {
   "cell_type": "markdown",
   "metadata": {
    "colab_type": "text",
    "id": "wfwZI3GxsqXe",
    "slideshow": {
     "slide_type": "slide"
    }
   },
   "source": [
    "# Algoritmos"
   ]
  },
  {
   "cell_type": "markdown",
   "metadata": {
    "colab_type": "text",
    "id": "6JfAj5z7sqXf",
    "slideshow": {
     "slide_type": "fragment"
    }
   },
   "source": [
    "Un algoritmo es una **secuencia** finita y **precisa** de pasos para resolver un **problema**."
   ]
  },
  {
   "cell_type": "markdown",
   "metadata": {
    "colab_type": "text",
    "id": "QhnyucxOsqXg",
    "slideshow": {
     "slide_type": "fragment"
    }
   },
   "source": [
    "Entonces, ¿qué es un problema?"
   ]
  },
  {
   "cell_type": "code",
   "execution_count": 9,
   "metadata": {},
   "outputs": [
    {
     "data": {
      "text/plain": [
       "4"
      ]
     },
     "execution_count": 9,
     "metadata": {},
     "output_type": "execute_result"
    }
   ],
   "source": [
    "2+2"
   ]
  },
  {
   "cell_type": "markdown",
   "metadata": {
    "colab_type": "text",
    "id": "LpdzdfGisqXh",
    "slideshow": {
     "slide_type": "slide"
    }
   },
   "source": [
    "# Problemas"
   ]
  },
  {
   "cell_type": "markdown",
   "metadata": {
    "colab_type": "text",
    "id": "IjQ6NX7esqXj",
    "slideshow": {
     "slide_type": "fragment"
    }
   },
   "source": [
    "Un problema es la necesidad de transformar un **estado inicial** en un **estado final**, respetando ciertas restricciones. "
   ]
  },
  {
   "cell_type": "markdown",
   "metadata": {
    "colab_type": "text",
    "id": "ED3wwIivsqXk",
    "slideshow": {
     "slide_type": "fragment"
    }
   },
   "source": [
    "Los problemas involucran **datos de entrada** en el estado inical y la solución contiene **datos de salida** en el estado final. Además, probablemente involucre otros datos intermedios que son relevantes."
   ]
  },
  {
   "cell_type": "markdown",
   "metadata": {
    "colab_type": "text",
    "id": "-C_p38u9sqXl",
    "slideshow": {
     "slide_type": "slide"
    }
   },
   "source": [
    "## Ejemplos de Problemas"
   ]
  },
  {
   "cell_type": "markdown",
   "metadata": {
    "colab_type": "text",
    "id": "3U8aykZzsqXn",
    "slideshow": {
     "slide_type": "fragment"
    }
   },
   "source": [
    "- Dado un conjunto de números, determinar los números ordenados de menor a mayor\n",
    "- Dado un conjunto de ciudades, encontrar el camino más corto que recorre las ciudades.\n",
    "- Dado un mensaje email, encontrar la probabilidad de que sea spam\n",
    "- ..."
   ]
  },
  {
   "cell_type": "markdown",
   "metadata": {
    "colab_type": "text",
    "id": "m4euBKGZsqXo",
    "slideshow": {
     "slide_type": "slide"
    }
   },
   "source": [
    "## El problema de la ambigüedad"
   ]
  },
  {
   "cell_type": "markdown",
   "metadata": {
    "colab_type": "text",
    "id": "QQsArLKBsqXo",
    "slideshow": {
     "slide_type": "fragment"
    }
   },
   "source": [
    "<div class=\"row\">\n",
    "  <div class=\"column\">\n",
    "  <img src=\"http://www.cristopherarenas.cl/progra-2019/images/leche_huevos.png\" alt=\"\" width=\"350px\" align=\"left\" style=\"margin-right:15px\"/>\n",
    "  </div>\n",
    "  <div class=\"column\">\n",
    "Mi madre dice:<br/>\n",
    "''Cariño, anda al súper y me traes una botella de leche, y si tienen huevos, compra seis\"<br/><br/>\n",
    "Cuando vuelvo me pregunta<br/>\n",
    "\"¿Por qué trajiste seis botellas de leche?\"<br/><br/>\n",
    "Respondo<br/>\n",
    "\"Porque había huevos\"\n",
    "    </div>\n",
    "</div>"
   ]
  },
  {
   "cell_type": "markdown",
   "metadata": {
    "colab_type": "text",
    "id": "Qz8NBr-hsqXq",
    "slideshow": {
     "slide_type": "slide"
    }
   },
   "source": [
    "## Comprensión del Problema"
   ]
  },
  {
   "cell_type": "markdown",
   "metadata": {
    "colab_type": "text",
    "id": "XUS-LjgpsqXr",
    "slideshow": {
     "slide_type": "fragment"
    }
   },
   "source": [
    "Para poder resolver un problema se debe **comprenderlo bien**, y ser capaces de formalizarlo de alguna manera. De lo contrario, corremos el riesgo de terminar **resolviendo el problema equivocado**."
   ]
  },
  {
   "cell_type": "markdown",
   "metadata": {
    "colab_type": "text",
    "id": "bK6ikuhosqXs",
    "slideshow": {
     "slide_type": "slide"
    }
   },
   "source": [
    "## Formalización del Problema"
   ]
  },
  {
   "cell_type": "markdown",
   "metadata": {
    "colab_type": "text",
    "id": "4IhsiRQhsqXt",
    "slideshow": {
     "slide_type": "fragment"
    }
   },
   "source": [
    "En este proceso se debe **definir el estado final al que se quiere llegar**. Esto se logra pensando cómo se vería una solución."
   ]
  },
  {
   "cell_type": "markdown",
   "metadata": {
    "colab_type": "text",
    "id": "dDFcd28DsqXu",
    "slideshow": {
     "slide_type": "fragment"
    }
   },
   "source": [
    "En esta etapa es importante concentrarse en el **qué** y no en el **cómo**."
   ]
  },
  {
   "cell_type": "markdown",
   "metadata": {
    "colab_type": "text",
    "id": "e6if_zGxsqXv",
    "slideshow": {
     "slide_type": "slide"
    }
   },
   "source": [
    "**Volviendo a los algoritmos...**<br/>\n",
    "Un algoritmo es una **secuencia** finita y **precisa** de pasos para resolver un **problema**."
   ]
  },
  {
   "cell_type": "markdown",
   "metadata": {
    "colab_type": "text",
    "id": "uTvSglUpsqXw",
    "slideshow": {
     "slide_type": "fragment"
    }
   },
   "source": [
    "Una vez especificado el problema, hay que tratar de resoverlo pero ¿de qué manera se puede expresar la secuencia de instrucciones?"
   ]
  },
  {
   "cell_type": "markdown",
   "metadata": {
    "colab_type": "text",
    "id": "RiQKbWCtsqXx",
    "slideshow": {
     "slide_type": "fragment"
    }
   },
   "source": [
    "- Lenguaje natural\n",
    "- Pseudocódigo\n",
    "- Diagramas de Flujo\n",
    "- Lenguajes de Bloques"
   ]
  },
  {
   "cell_type": "markdown",
   "metadata": {
    "colab_type": "text",
    "id": "ugZznpBmsqXy",
    "slideshow": {
     "slide_type": "slide"
    }
   },
   "source": [
    "## Problema Ejemplo:\n",
    "\n",
    "Determine si un número es **primo** o **compuesto**."
   ]
  },
  {
   "cell_type": "markdown",
   "metadata": {
    "colab_type": "text",
    "id": "cEuwiaMAsqX0",
    "slideshow": {
     "slide_type": "fragment"
    }
   },
   "source": [
    "**Definición:** un número natural `n` es primo si tiene solamente como divisores a 1 y a si mismo. En caso contrario es un número compuesto."
   ]
  },
  {
   "cell_type": "markdown",
   "metadata": {
    "colab_type": "text",
    "id": "ZODRvYZRsqX2",
    "slideshow": {
     "slide_type": "slide"
    }
   },
   "source": [
    "### Lenguaje natural"
   ]
  },
  {
   "cell_type": "markdown",
   "metadata": {
    "colab_type": "text",
    "id": "YpBKNCsOsqX3",
    "slideshow": {
     "slide_type": "fragment"
    }
   },
   "source": [
    "Buscar algún valor `d` que esté entre `2` y `n-1` que sea divisor de `n`.\n",
    "\n",
    "Si existe por lo menos uno de estos valores, entonces `n` es compuesto; en caso contrario, es primo."
   ]
  },
  {
   "cell_type": "markdown",
   "metadata": {
    "colab_type": "text",
    "id": "xOAOrl9isqX4",
    "slideshow": {
     "slide_type": "slide"
    }
   },
   "source": [
    "### Pseudocódigo\n",
    "```\n",
    "leer n\n",
    "es_primo = verdadero\n",
    "d = 2\n",
    "```\n",
    "```\n",
    "mientras d sea menor que n:\n",
    "    si n es divisible por d:\n",
    "        es_primo = falso\n",
    "    d = d + 1\n",
    "```\n",
    "```\n",
    "si es_primo es verdadero:\n",
    "    escribir \"n es primo\"\n",
    "si no:\n",
    "    escribir \"n es compuesto\"\n",
    "```\n"
   ]
  },
  {
   "cell_type": "markdown",
   "metadata": {
    "colab_type": "text",
    "id": "QrhzTF0MsqX6",
    "slideshow": {
     "slide_type": "slide"
    }
   },
   "source": [
    "### Diagramas de Flujo\n",
    "<img src=\"images/diagrama_flujo.svg\" width=\"450px\" alt=\"\"/>"
   ]
  },
  {
   "cell_type": "markdown",
   "metadata": {
    "colab_type": "text",
    "id": "3iJlUTjqsqX6",
    "slideshow": {
     "slide_type": "slide"
    }
   },
   "source": [
    "### Lenguajes de Bloques"
   ]
  },
  {
   "cell_type": "code",
   "execution_count": 5,
   "metadata": {
    "colab": {},
    "colab_type": "code",
    "id": "wjtS8_8qsqX7",
    "outputId": "c53d4d1b-9fa4-4b8a-c939-057ce8deca64",
    "slideshow": {
     "slide_type": "fragment"
    }
   },
   "outputs": [
    {
     "data": {
      "text/html": [
       "<iframe src=\"https://trinket.io/embed/blocks/f1d62613e6?hideGeneratedCode=true\" width=\"100%\" height=\"500\" frameborder=\"0\" marginwidth=\"0\" marginheight=\"0\" allowfullscreen></iframe>"
      ],
      "text/plain": [
       "<IPython.core.display.HTML object>"
      ]
     },
     "execution_count": 5,
     "metadata": {},
     "output_type": "execute_result"
    }
   ],
   "source": [
    "from IPython.display import HTML\n",
    "HTML('<iframe src=\"https://trinket.io/embed/blocks/f1d62613e6?hideGeneratedCode=true\" width=\"100%\" height=\"500\" frameborder=\"0\" marginwidth=\"0\" marginheight=\"0\" allowfullscreen></iframe>')"
   ]
  },
  {
   "cell_type": "markdown",
   "metadata": {
    "colab_type": "text",
    "id": "NPhOhoOysqYA",
    "slideshow": {
     "slide_type": "slide"
    }
   },
   "source": [
    "## Estructura de un algoritmo"
   ]
  },
  {
   "cell_type": "markdown",
   "metadata": {
    "colab_type": "text",
    "id": "JtJKTzJ6sqYA",
    "slideshow": {
     "slide_type": "fragment"
    }
   },
   "source": [
    "Las instrucciones del algoritmo pueden expresarse:\n",
    "- **Secuencialmente**\n",
    "- Tomando **decisiones**\n",
    "- En **repeticiones** o **ciclos**"
   ]
  },
  {
   "cell_type": "markdown",
   "metadata": {
    "colab_type": "text",
    "id": "35vtupd6sqYC",
    "slideshow": {
     "slide_type": "slide"
    }
   },
   "source": [
    "## Usando un Lenguaje de Bloques"
   ]
  },
  {
   "cell_type": "markdown",
   "metadata": {
    "colab_type": "text",
    "id": "JWTq9mUssqYC",
    "slideshow": {
     "slide_type": "fragment"
    }
   },
   "source": [
    "### Trinket\n",
    "- https://trinket.io/\n",
    "- Posee un entorno de diseño de algoritmos por medio de bloques"
   ]
  },
  {
   "cell_type": "markdown",
   "metadata": {
    "colab_type": "text",
    "id": "MJ94_LApsqYD",
    "slideshow": {
     "slide_type": "fragment"
    }
   },
   "source": [
    "**Dos bloques de Trinket:**\n",
    "- move (mover)\n",
    "- turn (girar)"
   ]
  },
  {
   "cell_type": "markdown",
   "metadata": {
    "colab_type": "text",
    "id": "xLtZlBF9sqYF",
    "slideshow": {
     "slide_type": "slide"
    }
   },
   "source": [
    "### Bloque `move` (mover)\n",
    "- Permite mover un cursor tantas unidades como sean indicadas por un valor numérico.\n",
    "- Puede mover hacia adelante (`move forward`) o mover hacia atrás (`move backward`)."
   ]
  },
  {
   "cell_type": "markdown",
   "metadata": {
    "colab_type": "text",
    "id": "lIGtKolJsqYG",
    "slideshow": {
     "slide_type": "slide"
    }
   },
   "source": [
    "#### `move forward` (mover hacia adelante)"
   ]
  },
  {
   "cell_type": "code",
   "execution_count": 7,
   "metadata": {
    "colab": {},
    "colab_type": "code",
    "id": "n4BPwX35sqYH",
    "outputId": "de412a9a-c985-4dc3-f7f0-c76d6465fb42",
    "slideshow": {
     "slide_type": "fragment"
    }
   },
   "outputs": [
    {
     "data": {
      "text/html": [
       "<iframe src=\"https://trinket.io/embed/blocks/b4a39cddbc?hideGeneratedCode=true\" width=\"100%\" height=\"270\" frameborder=\"0\" marginwidth=\"0\" marginheight=\"0\" allowfullscreen></iframe>"
      ],
      "text/plain": [
       "<IPython.core.display.HTML object>"
      ]
     },
     "execution_count": 7,
     "metadata": {},
     "output_type": "execute_result"
    }
   ],
   "source": [
    "HTML('<iframe src=\"https://trinket.io/embed/blocks/b4a39cddbc?hideGeneratedCode=true\" width=\"100%\" height=\"270\" frameborder=\"0\" marginwidth=\"0\" marginheight=\"0\" allowfullscreen></iframe>')"
   ]
  },
  {
   "cell_type": "markdown",
   "metadata": {
    "colab_type": "text",
    "id": "Kp3PrcATsqYL",
    "slideshow": {
     "slide_type": "slide"
    }
   },
   "source": [
    "#### `move backward` (mover hacia atrás)"
   ]
  },
  {
   "cell_type": "code",
   "execution_count": 7,
   "metadata": {
    "colab": {},
    "colab_type": "code",
    "id": "USLxHJmysqYM",
    "outputId": "7334c254-aa75-4c77-8ae9-f8cb9aeee443",
    "slideshow": {
     "slide_type": "fragment"
    }
   },
   "outputs": [
    {
     "data": {
      "text/html": [
       "<iframe src=\"https://trinket.io/embed/blocks/279df10e32?hideGeneratedCode=true\" width=\"100%\" height=\"270\" frameborder=\"0\" marginwidth=\"0\" marginheight=\"0\" allowfullscreen></iframe>"
      ],
      "text/plain": [
       "<IPython.core.display.HTML object>"
      ]
     },
     "execution_count": 7,
     "metadata": {},
     "output_type": "execute_result"
    }
   ],
   "source": [
    "HTML('<iframe src=\"https://trinket.io/embed/blocks/279df10e32?hideGeneratedCode=true\" width=\"100%\" height=\"270\" frameborder=\"0\" marginwidth=\"0\" marginheight=\"0\" allowfullscreen></iframe>')"
   ]
  },
  {
   "cell_type": "markdown",
   "metadata": {
    "colab_type": "text",
    "id": "nYroxHEWsqYP",
    "slideshow": {
     "slide_type": "slide"
    }
   },
   "source": [
    "### Bloque `turn` (girar)\n",
    "- Permite girar un cursor en tantos grados como sean indicados por un valor numérico.\n",
    "- Se puede girar hacia la derecha (`turn right by`) o en sentido horario. \n",
    "- Se puede girar hacia la izquierda (`turn left by`) o en sentido anti-horario."
   ]
  },
  {
   "cell_type": "markdown",
   "metadata": {
    "colab_type": "text",
    "id": "2ECxqo3YsqYR",
    "slideshow": {
     "slide_type": "slide"
    }
   },
   "source": [
    "#### `turn right by` (girar hacia la derecha)"
   ]
  },
  {
   "cell_type": "code",
   "execution_count": 4,
   "metadata": {
    "colab": {},
    "colab_type": "code",
    "id": "7f-10pC0sqYS",
    "outputId": "8be43b6d-1fa8-467a-be34-c7958a2bedf1",
    "slideshow": {
     "slide_type": "fragment"
    }
   },
   "outputs": [
    {
     "data": {
      "text/html": [
       "<iframe src=\"https://trinket.io/embed/blocks/5cf7060afb?hideGeneratedCode=true\" width=\"100%\" height=\"270\" frameborder=\"0\" marginwidth=\"0\" marginheight=\"0\" allowfullscreen></iframe>"
      ],
      "text/plain": [
       "<IPython.core.display.HTML object>"
      ]
     },
     "execution_count": 4,
     "metadata": {},
     "output_type": "execute_result"
    }
   ],
   "source": [
    "HTML('<iframe src=\"https://trinket.io/embed/blocks/5cf7060afb?hideGeneratedCode=true\" width=\"100%\" height=\"270\" frameborder=\"0\" marginwidth=\"0\" marginheight=\"0\" allowfullscreen></iframe>')"
   ]
  },
  {
   "cell_type": "markdown",
   "metadata": {
    "colab_type": "text",
    "collapsed": true,
    "id": "LuxgLER-sqYY",
    "slideshow": {
     "slide_type": "slide"
    }
   },
   "source": [
    "#### `turn left by` (girar hacia la izquierda)"
   ]
  },
  {
   "cell_type": "code",
   "execution_count": 18,
   "metadata": {
    "colab": {},
    "colab_type": "code",
    "id": "6iJ_ijAdsqYZ",
    "outputId": "b31b8651-376d-45a0-fa15-b0f0b7626e46",
    "slideshow": {
     "slide_type": "fragment"
    }
   },
   "outputs": [
    {
     "data": {
      "text/html": [
       "<iframe src=\"https://trinket.io/embed/blocks/e5b38d7418?hideGeneratedCode=true\" width=\"100%\" height=\"270\" frameborder=\"0\" marginwidth=\"0\" marginheight=\"0\" allowfullscreen></iframe>"
      ],
      "text/plain": [
       "<IPython.core.display.HTML object>"
      ]
     },
     "execution_count": 18,
     "metadata": {},
     "output_type": "execute_result"
    }
   ],
   "source": [
    "HTML('<iframe src=\"https://trinket.io/embed/blocks/e5b38d7418?hideGeneratedCode=true\" width=\"100%\" height=\"270\" frameborder=\"0\" marginwidth=\"0\" marginheight=\"0\" allowfullscreen></iframe>')"
   ]
  },
  {
   "cell_type": "markdown",
   "metadata": {
    "colab_type": "text",
    "id": "Myes1I31sqYc",
    "slideshow": {
     "slide_type": "slide"
    }
   },
   "source": [
    "## Usando un Lenguaje de Bloques"
   ]
  },
  {
   "cell_type": "markdown",
   "metadata": {
    "colab_type": "text",
    "id": "JmLm5SLvsqYc",
    "slideshow": {
     "slide_type": "fragment"
    }
   },
   "source": [
    "La idea de un leguaje de bloques es poder **conectar los bloques** para diseñar un algoritmo que resuelva un problema. ¿Qué ocurre en el siguiente ejemplo?"
   ]
  },
  {
   "cell_type": "code",
   "execution_count": 5,
   "metadata": {
    "colab": {},
    "colab_type": "code",
    "id": "tBYyw6MlsqYd",
    "outputId": "845309b6-87be-4a25-d344-814f0f798331",
    "slideshow": {
     "slide_type": "fragment"
    }
   },
   "outputs": [
    {
     "data": {
      "text/html": [
       "<iframe src=\"https://trinket.io/embed/blocks/d798803a77?hideGeneratedCode=true\" width=\"100%\" height=\"270\" frameborder=\"0\" marginwidth=\"0\" marginheight=\"0\" allowfullscreen></iframe>"
      ],
      "text/plain": [
       "<IPython.core.display.HTML object>"
      ]
     },
     "execution_count": 5,
     "metadata": {},
     "output_type": "execute_result"
    }
   ],
   "source": [
    "HTML('<iframe src=\"https://trinket.io/embed/blocks/d798803a77?hideGeneratedCode=true\" width=\"100%\" height=\"270\" frameborder=\"0\" marginwidth=\"0\" marginheight=\"0\" allowfullscreen></iframe>')"
   ]
  },
  {
   "cell_type": "markdown",
   "metadata": {
    "colab_type": "text",
    "id": "2wRNysmVsqYg",
    "slideshow": {
     "slide_type": "slide"
    }
   },
   "source": [
    "## Ejercicio 1\n",
    "\n",
    "Diseñar un algoritmo que dibuje un cuadrado.\n"
   ]
  },
  {
   "cell_type": "code",
   "execution_count": 10,
   "metadata": {
    "colab": {},
    "colab_type": "code",
    "id": "2AKT1W_usqYg",
    "outputId": "232fd211-1447-4c2f-f099-1b806e119c49",
    "slideshow": {
     "slide_type": "fragment"
    }
   },
   "outputs": [
    {
     "data": {
      "text/html": [
       "<iframe src=\"https://trinket.io/embed/blocks/9cf6545f91?hideGeneratedCode=true\" width=\"100%\" height=\"400\" frameborder=\"0\" marginwidth=\"0\" marginheight=\"0\" allowfullscreen></iframe>"
      ],
      "text/plain": [
       "<IPython.core.display.HTML object>"
      ]
     },
     "execution_count": 10,
     "metadata": {},
     "output_type": "execute_result"
    }
   ],
   "source": [
    "HTML('<iframe src=\"https://trinket.io/embed/blocks/9cf6545f91?hideGeneratedCode=true\" width=\"100%\" height=\"400\" frameborder=\"0\" marginwidth=\"0\" marginheight=\"0\" allowfullscreen></iframe>')"
   ]
  },
  {
   "cell_type": "markdown",
   "metadata": {
    "colab_type": "text",
    "id": "C2W_Lo3WsqYi",
    "slideshow": {
     "slide_type": "slide"
    }
   },
   "source": [
    "## Ejercicio 2\n",
    "\n",
    "Diseñar un algoritmo que dibuje otra figura geométrica distinta al cuadrado."
   ]
  },
  {
   "cell_type": "code",
   "execution_count": 8,
   "metadata": {
    "colab": {},
    "colab_type": "code",
    "id": "e0lMs3J1sqYk",
    "outputId": "254f2004-5dad-485c-d39c-bca40354b953",
    "slideshow": {
     "slide_type": "fragment"
    }
   },
   "outputs": [
    {
     "data": {
      "text/html": [
       "<iframe src=\"https://trinket.io/embed/blocks/1a30d7cc2a?hideGeneratedCode=true\" width=\"100%\" height=\"400\" frameborder=\"0\" marginwidth=\"0\" marginheight=\"0\" allowfullscreen></iframe>"
      ],
      "text/plain": [
       "<IPython.core.display.HTML object>"
      ]
     },
     "execution_count": 8,
     "metadata": {},
     "output_type": "execute_result"
    }
   ],
   "source": [
    "HTML('<iframe src=\"https://trinket.io/embed/blocks/1a30d7cc2a?hideGeneratedCode=true\" width=\"100%\" height=\"400\" frameborder=\"0\" marginwidth=\"0\" marginheight=\"0\" allowfullscreen></iframe>')"
   ]
  },
  {
   "cell_type": "code",
   "execution_count": null,
   "metadata": {
    "colab": {},
    "colab_type": "code",
    "collapsed": true,
    "id": "oFvikT3usqYn",
    "slideshow": {
     "slide_type": "skip"
    }
   },
   "outputs": [],
   "source": []
  }
 ],
 "metadata": {
  "colab": {
   "collapsed_sections": [],
   "name": "Clase01_Intro_Programación_2019.ipynb",
   "provenance": [],
   "version": "0.3.2"
  },
  "kernelspec": {
   "display_name": "Python 3",
   "language": "python",
   "name": "python3"
  },
  "language_info": {
   "codemirror_mode": {
    "name": "ipython",
    "version": 3
   },
   "file_extension": ".py",
   "mimetype": "text/x-python",
   "name": "python",
   "nbconvert_exporter": "python",
   "pygments_lexer": "ipython3",
   "version": "3.6.7"
  }
 },
 "nbformat": 4,
 "nbformat_minor": 1
}
