{
 "cells": [
  {
   "cell_type": "markdown",
   "metadata": {
    "colab_type": "text",
    "id": "_rPxQN5ys4D7",
    "slideshow": {
     "slide_type": "slide"
    }
   },
   "source": [
    "<img src=\"images/di.png\" alt=\"\" width=\"200px\" align=\"left\"/>\n",
    "<img src=\"images/utfsm.png\" alt=\"\" width=\"150px\" align=\"right\"/>\n",
    "\n",
    "<br/>\n",
    "<div align=\"center\">\n",
    "<h1>IWI131 Programación</h1><br/>\n",
    "<h2>Algoritmos Generales con Trinket</h2>\n",
    "<br/><br/>\n",
    "Departamento de Informática<br/>\n",
    "Universidad Técnica Federico Santa María\n",
    "</div>"
   ]
  },
  {
   "cell_type": "markdown",
   "metadata": {
    "colab_type": "text",
    "id": "sXKOzmjBs4EE",
    "slideshow": {
     "slide_type": "slide"
    }
   },
   "source": [
    "# Algoritmos"
   ]
  },
  {
   "cell_type": "markdown",
   "metadata": {
    "colab_type": "text",
    "id": "x5ewA5fls4Eh",
    "slideshow": {
     "slide_type": "slide"
    }
   },
   "source": [
    "## Decisiones"
   ]
  },
  {
   "cell_type": "markdown",
   "metadata": {
    "colab_type": "text",
    "id": "DZNN_h-m2Uyf",
    "slideshow": {
     "slide_type": "fragment"
    }
   },
   "source": [
    "Existen problemas en los cuales nuestros algoritmos toman decisiones o se bifurcan, por ejemplo: \n",
    "\n",
    "\n",
    "1. Saber si un número es par.\n",
    "2. Verificar que un número sea positivo e impar.\n",
    "3. La definición del valor absoluto.\n",
    "\\begin{equation}\n",
    "    |x|=\n",
    "    \\begin{cases}\n",
    "       \\hfill x, & \\text{si } x \\geq 0 \\\\  \n",
    "       -x, & \\text{si } x < 0 \\\\ \n",
    "    \\end{cases}\n",
    "\\end{equation}"
   ]
  },
  {
   "cell_type": "markdown",
   "metadata": {
    "colab_type": "text",
    "id": "OG4mRCRAs4ES",
    "slideshow": {
     "slide_type": "slide"
    }
   },
   "source": [
    "## Repeticiones o Ciclos\n"
   ]
  },
  {
   "cell_type": "markdown",
   "metadata": {
    "colab_type": "text",
    "id": "TSmSZlq-s4EW",
    "slideshow": {
     "slide_type": "fragment"
    }
   },
   "source": [
    "Hay veces que notamos ciertos patrones que se repiten dentro de un algoritmo, por ejemplo:\n",
    "\n",
    "\n",
    "1. Obtener el promedio de $N$ elementos.\n",
    "2. Dado un conjunto de números, obtener el mayor/menor.\n",
    "3. Buscar los divisores de un número.\n",
    "\n"
   ]
  },
  {
   "cell_type": "markdown",
   "metadata": {
    "colab_type": "text",
    "id": "A_eoh8gsxrtR",
    "slideshow": {
     "slide_type": "skip"
    }
   },
   "source": [
    "## Lenguaje de bloques"
   ]
  },
  {
   "cell_type": "markdown",
   "metadata": {
    "colab_type": "text",
    "id": "hwZsbrT2xuxC",
    "slideshow": {
     "slide_type": "slide"
    }
   },
   "source": [
    "### Bloque `print`\n",
    "\n",
    "***Imprime*** un mensaje"
   ]
  },
  {
   "cell_type": "code",
   "execution_count": 1,
   "metadata": {
    "colab": {
     "base_uri": "https://localhost:8080/",
     "height": 620
    },
    "colab_type": "code",
    "executionInfo": {
     "elapsed": 552,
     "status": "ok",
     "timestamp": 1551157554990,
     "user": {
      "displayName": "Daniel San Martín",
      "photoUrl": "https://lh4.googleusercontent.com/-xj_b6QASR9g/AAAAAAAAAAI/AAAAAAAAABc/MAAqQCVKo5I/s64/photo.jpg",
      "userId": "16014787961842903941"
     },
     "user_tz": 180
    },
    "id": "BVVrly4g2Ykz",
    "outputId": "cff7eafb-99ca-4e2f-b9ce-25bd5366275f",
    "scrolled": true,
    "slideshow": {
     "slide_type": "fragment"
    }
   },
   "outputs": [
    {
     "data": {
      "text/html": [
       "<iframe src=\"https://trinket.io/embed/blocks/d9bb462dfd?hideGeneratedCode=true\" width=\"100%\" height=\"300\" frameborder=\"0\" marginwidth=\"0\" marginheight=\"0\" allowfullscreen></iframe>"
      ],
      "text/plain": [
       "<IPython.core.display.HTML object>"
      ]
     },
     "metadata": {},
     "output_type": "display_data"
    }
   ],
   "source": [
    "from IPython.core.display import display, HTML\n",
    "display(HTML('<iframe src=\"https://trinket.io/embed/blocks/d9bb462dfd?hideGeneratedCode=true\" width=\"100%\" height=\"300\" frameborder=\"0\" marginwidth=\"0\" marginheight=\"0\" allowfullscreen></iframe>'))"
   ]
  },
  {
   "cell_type": "markdown",
   "metadata": {
    "colab_type": "text",
    "id": "MvB8m6IGz7CP",
    "slideshow": {
     "slide_type": "slide"
    }
   },
   "source": [
    "### Bloque `if-else`\n",
    "\n",
    "Permite bifurcar un algoritmo. ***Si*** se cumple la condición realiza una acción, ***sino*** realiza la otra."
   ]
  },
  {
   "cell_type": "code",
   "execution_count": 2,
   "metadata": {
    "colab": {
     "base_uri": "https://localhost:8080/",
     "height": 620
    },
    "colab_type": "code",
    "executionInfo": {
     "elapsed": 549,
     "status": "ok",
     "timestamp": 1551157466116,
     "user": {
      "displayName": "Daniel San Martín",
      "photoUrl": "https://lh4.googleusercontent.com/-xj_b6QASR9g/AAAAAAAAAAI/AAAAAAAAABc/MAAqQCVKo5I/s64/photo.jpg",
      "userId": "16014787961842903941"
     },
     "user_tz": 180
    },
    "id": "sf4X5epL4RNi",
    "outputId": "ae25bbe9-30d9-4b54-faff-b37de29bd48e",
    "slideshow": {
     "slide_type": "fragment"
    }
   },
   "outputs": [
    {
     "data": {
      "text/html": [
       "<iframe src=\"https://trinket.io/embed/blocks/b6016326cc?hideGeneratedCode=true\" width=\"100%\" height=\"300\" frameborder=\"0\" marginwidth=\"0\" marginheight=\"0\" allowfullscreen></iframe>"
      ],
      "text/plain": [
       "<IPython.core.display.HTML object>"
      ]
     },
     "metadata": {},
     "output_type": "display_data"
    }
   ],
   "source": [
    "display(HTML('<iframe src=\"https://trinket.io/embed/blocks/b6016326cc?hideGeneratedCode=true\" width=\"100%\" height=\"300\" frameborder=\"0\" marginwidth=\"0\" marginheight=\"0\" allowfullscreen></iframe>'))"
   ]
  },
  {
   "cell_type": "markdown",
   "metadata": {
    "colab_type": "text",
    "id": "q50tIB5H0hgg",
    "slideshow": {
     "slide_type": "slide"
    }
   },
   "source": [
    "### Operadores de comparación\n",
    "\n",
    "Nos permite hacer comparación de variables para utilizarlas dentro de nuestro bloque `if-else`. Podemos realizar comparaciones aritméticas: $=, \\neq, <, \\leq, >, \\geq$ y lógicas como: `and`, `or`.\n",
    "\n"
   ]
  },
  {
   "cell_type": "code",
   "execution_count": 3,
   "metadata": {
    "colab": {
     "base_uri": "https://localhost:8080/",
     "height": 620
    },
    "colab_type": "code",
    "executionInfo": {
     "elapsed": 588,
     "status": "ok",
     "timestamp": 1551157422362,
     "user": {
      "displayName": "Daniel San Martín",
      "photoUrl": "https://lh4.googleusercontent.com/-xj_b6QASR9g/AAAAAAAAAAI/AAAAAAAAABc/MAAqQCVKo5I/s64/photo.jpg",
      "userId": "16014787961842903941"
     },
     "user_tz": 180
    },
    "id": "IW--zy2A54AX",
    "outputId": "9b174b66-af9f-4573-f7db-7568dbae6d97",
    "slideshow": {
     "slide_type": "fragment"
    }
   },
   "outputs": [
    {
     "data": {
      "text/html": [
       "<iframe src=\"https://trinket.io/embed/blocks/0c264620ae?hideGeneratedCode=true\" width=\"100%\" height=\"300\" frameborder=\"0\" marginwidth=\"0\" marginheight=\"0\" allowfullscreen></iframe>"
      ],
      "text/plain": [
       "<IPython.core.display.HTML object>"
      ]
     },
     "metadata": {},
     "output_type": "display_data"
    }
   ],
   "source": [
    "display(HTML('<iframe src=\"https://trinket.io/embed/blocks/0c264620ae?hideGeneratedCode=true\" width=\"100%\" height=\"300\" frameborder=\"0\" marginwidth=\"0\" marginheight=\"0\" allowfullscreen></iframe>'))"
   ]
  },
  {
   "cell_type": "markdown",
   "metadata": {
    "colab_type": "text",
    "id": "IoaCQANC0ltV",
    "slideshow": {
     "slide_type": "slide"
    }
   },
   "source": [
    "### Bloque `repeat-while`\n",
    "\n",
    "***Repetir*** una sección de código ***mientras*** se cumple una condición."
   ]
  },
  {
   "cell_type": "code",
   "execution_count": 4,
   "metadata": {
    "colab": {
     "base_uri": "https://localhost:8080/",
     "height": 620
    },
    "colab_type": "code",
    "executionInfo": {
     "elapsed": 587,
     "status": "ok",
     "timestamp": 1551157365424,
     "user": {
      "displayName": "Daniel San Martín",
      "photoUrl": "https://lh4.googleusercontent.com/-xj_b6QASR9g/AAAAAAAAAAI/AAAAAAAAABc/MAAqQCVKo5I/s64/photo.jpg",
      "userId": "16014787961842903941"
     },
     "user_tz": 180
    },
    "id": "DtVA4tPQ7_1P",
    "outputId": "7844ab1f-0f2f-49b9-dbf1-add41718d9f3",
    "slideshow": {
     "slide_type": "fragment"
    }
   },
   "outputs": [
    {
     "data": {
      "text/html": [
       "<iframe src=\"https://trinket.io/embed/blocks/773558e03a?hideGeneratedCode=true\" width=\"100%\" height=\"300\" frameborder=\"0\" marginwidth=\"0\" marginheight=\"0\" allowfullscreen></iframe>"
      ],
      "text/plain": [
       "<IPython.core.display.HTML object>"
      ]
     },
     "metadata": {},
     "output_type": "display_data"
    }
   ],
   "source": [
    "display(HTML('<iframe src=\"https://trinket.io/embed/blocks/773558e03a?hideGeneratedCode=true\" width=\"100%\" height=\"300\" frameborder=\"0\" marginwidth=\"0\" marginheight=\"0\" allowfullscreen></iframe>'))"
   ]
  },
  {
   "cell_type": "markdown",
   "metadata": {
    "colab_type": "text",
    "id": "hW6byiSZ0uTF",
    "slideshow": {
     "slide_type": "slide"
    }
   },
   "source": [
    "### Bloque `remainder`\n",
    "\n",
    "Calcula el ***resto*** de una división."
   ]
  },
  {
   "cell_type": "code",
   "execution_count": 5,
   "metadata": {
    "colab": {
     "base_uri": "https://localhost:8080/",
     "height": 620
    },
    "colab_type": "code",
    "executionInfo": {
     "elapsed": 507,
     "status": "ok",
     "timestamp": 1551157303076,
     "user": {
      "displayName": "Daniel San Martín",
      "photoUrl": "https://lh4.googleusercontent.com/-xj_b6QASR9g/AAAAAAAAAAI/AAAAAAAAABc/MAAqQCVKo5I/s64/photo.jpg",
      "userId": "16014787961842903941"
     },
     "user_tz": 180
    },
    "id": "JbEkr5Ei_4Nz",
    "outputId": "b0a89886-9f9b-4324-f905-edd799efbee3",
    "slideshow": {
     "slide_type": "fragment"
    }
   },
   "outputs": [
    {
     "data": {
      "text/html": [
       "<iframe src=\"https://trinket.io/embed/blocks/0765553d5e?hideGeneratedCode=true\" width=\"100%\" height=\"300\" frameborder=\"0\" marginwidth=\"0\" marginheight=\"0\" allowfullscreen></iframe>"
      ],
      "text/plain": [
       "<IPython.core.display.HTML object>"
      ]
     },
     "metadata": {},
     "output_type": "display_data"
    }
   ],
   "source": [
    "display(HTML('<iframe src=\"https://trinket.io/embed/blocks/0765553d5e?hideGeneratedCode=true\" width=\"100%\" height=\"300\" frameborder=\"0\" marginwidth=\"0\" marginheight=\"0\" allowfullscreen></iframe>'))"
   ]
  },
  {
   "cell_type": "markdown",
   "metadata": {
    "colab_type": "text",
    "id": "2OAst5vO00W1",
    "slideshow": {
     "slide_type": "slide"
    }
   },
   "source": [
    "### Bloque `is-even`\n",
    "\n",
    "Verifica si un número es ***par***."
   ]
  },
  {
   "cell_type": "code",
   "execution_count": 6,
   "metadata": {
    "colab": {
     "base_uri": "https://localhost:8080/",
     "height": 620
    },
    "colab_type": "code",
    "executionInfo": {
     "elapsed": 539,
     "status": "ok",
     "timestamp": 1551157250992,
     "user": {
      "displayName": "Daniel San Martín",
      "photoUrl": "https://lh4.googleusercontent.com/-xj_b6QASR9g/AAAAAAAAAAI/AAAAAAAAABc/MAAqQCVKo5I/s64/photo.jpg",
      "userId": "16014787961842903941"
     },
     "user_tz": 180
    },
    "id": "wxggKegz_5QY",
    "outputId": "86334a60-a3a9-495e-dd16-b5238f608c5b",
    "slideshow": {
     "slide_type": "fragment"
    }
   },
   "outputs": [
    {
     "data": {
      "text/html": [
       "<iframe src=\"https://trinket.io/embed/blocks/ba4e2e0f0c?hideGeneratedCode=true\" width=\"100%\" height=\"300\" frameborder=\"0\" marginwidth=\"0\" marginheight=\"0\" allowfullscreen></iframe>"
      ],
      "text/plain": [
       "<IPython.core.display.HTML object>"
      ]
     },
     "metadata": {},
     "output_type": "display_data"
    }
   ],
   "source": [
    "display(HTML('<iframe src=\"https://trinket.io/embed/blocks/ba4e2e0f0c?hideGeneratedCode=true\" width=\"100%\" height=\"300\" frameborder=\"0\" marginwidth=\"0\" marginheight=\"0\" allowfullscreen></iframe>'))"
   ]
  },
  {
   "cell_type": "markdown",
   "metadata": {
    "colab_type": "text",
    "id": "7zlVouJp1HEE",
    "slideshow": {
     "slide_type": "slide"
    }
   },
   "source": [
    "### Valores booleanos (`true-false`)\n",
    "\n",
    "Valores lógicos ***verdadero*** y ***falso***."
   ]
  },
  {
   "cell_type": "code",
   "execution_count": 7,
   "metadata": {
    "colab": {
     "base_uri": "https://localhost:8080/",
     "height": 620
    },
    "colab_type": "code",
    "executionInfo": {
     "elapsed": 578,
     "status": "ok",
     "timestamp": 1551157164781,
     "user": {
      "displayName": "Daniel San Martín",
      "photoUrl": "https://lh4.googleusercontent.com/-xj_b6QASR9g/AAAAAAAAAAI/AAAAAAAAABc/MAAqQCVKo5I/s64/photo.jpg",
      "userId": "16014787961842903941"
     },
     "user_tz": 180
    },
    "id": "pah_TSEb_6PP",
    "outputId": "4644821e-0430-4524-866a-31a438780f9d",
    "slideshow": {
     "slide_type": "fragment"
    }
   },
   "outputs": [
    {
     "data": {
      "text/html": [
       "<iframe src=\"https://trinket.io/embed/blocks/db3fe3be51?hideGeneratedCode=true\" width=\"100%\" height=\"300\" frameborder=\"0\" marginwidth=\"0\" marginheight=\"0\" allowfullscreen></iframe>"
      ],
      "text/plain": [
       "<IPython.core.display.HTML object>"
      ]
     },
     "metadata": {},
     "output_type": "display_data"
    }
   ],
   "source": [
    "display(HTML('<iframe src=\"https://trinket.io/embed/blocks/db3fe3be51?hideGeneratedCode=true\" width=\"100%\" height=\"300\" frameborder=\"0\" marginwidth=\"0\" marginheight=\"0\" allowfullscreen></iframe>'))"
   ]
  },
  {
   "cell_type": "markdown",
   "metadata": {
    "colab_type": "text",
    "id": "kBOIP0wL1oiC",
    "slideshow": {
     "slide_type": "slide"
    }
   },
   "source": [
    "### Bloque `create-text`\n",
    "\n",
    "Permite ***Crear un texto***."
   ]
  },
  {
   "cell_type": "code",
   "execution_count": 8,
   "metadata": {
    "colab": {
     "base_uri": "https://localhost:8080/",
     "height": 620
    },
    "colab_type": "code",
    "executionInfo": {
     "elapsed": 628,
     "status": "ok",
     "timestamp": 1551157069411,
     "user": {
      "displayName": "Daniel San Martín",
      "photoUrl": "https://lh4.googleusercontent.com/-xj_b6QASR9g/AAAAAAAAAAI/AAAAAAAAABc/MAAqQCVKo5I/s64/photo.jpg",
      "userId": "16014787961842903941"
     },
     "user_tz": 180
    },
    "id": "VcF3gOYa_68P",
    "outputId": "05d9953a-0bb8-4be5-a2ac-0afe93c31375",
    "slideshow": {
     "slide_type": "fragment"
    }
   },
   "outputs": [
    {
     "data": {
      "text/html": [
       "<iframe src=\"https://trinket.io/embed/blocks/2cb28394d9?hideGeneratedCode=true\" width=\"100%\" height=\"300\" frameborder=\"0\" marginwidth=\"0\" marginheight=\"0\" allowfullscreen></iframe>"
      ],
      "text/plain": [
       "<IPython.core.display.HTML object>"
      ]
     },
     "metadata": {},
     "output_type": "display_data"
    }
   ],
   "source": [
    "display(HTML('<iframe src=\"https://trinket.io/embed/blocks/2cb28394d9?hideGeneratedCode=true\" width=\"100%\" height=\"300\" frameborder=\"0\" marginwidth=\"0\" marginheight=\"0\" allowfullscreen></iframe>'))"
   ]
  },
  {
   "cell_type": "markdown",
   "metadata": {
    "colab_type": "text",
    "id": "po7bnOzVv21F",
    "slideshow": {
     "slide_type": "slide"
    }
   },
   "source": [
    "# Ejemplos"
   ]
  },
  {
   "cell_type": "markdown",
   "metadata": {
    "colab_type": "text",
    "id": "bkhgNHXRwukX",
    "slideshow": {
     "slide_type": "slide"
    }
   },
   "source": [
    "## Conjetura de Ulam\n",
    "\n",
    "A partir de un número cualquiera (entrada) es posible hacer una sucesión de números que termina en 1.\n",
    "- Si el número es par, se debe dividir por 2.\n",
    "- Si el número es impar, se debe multiplicar por 3 y sumarle 1.\n",
    "\n",
    "Con esto se obtiene el siguiente número de la sucesión, al cual se le deben aplicar las mismas operaciones. La sucesión de números termina cuando el número obtenido por medio de las operaciones es 1.\n"
   ]
  },
  {
   "cell_type": "code",
   "execution_count": 9,
   "metadata": {
    "colab": {
     "base_uri": "https://localhost:8080/",
     "height": 621
    },
    "colab_type": "code",
    "executionInfo": {
     "elapsed": 977,
     "status": "ok",
     "timestamp": 1551060020237,
     "user": {
      "displayName": "Sergio Campos",
      "photoUrl": "",
      "userId": "12155360713523385064"
     },
     "user_tz": 180
    },
    "id": "w8YUiyfHvrUS",
    "outputId": "fd74cf90-a798-4733-917c-4029b907186f",
    "slideshow": {
     "slide_type": "slide"
    }
   },
   "outputs": [
    {
     "data": {
      "text/html": [
       "<iframe src=\"https://trinket.io/embed/blocks/06947cd48d?hideGeneratedCode=true\" width=\"100%\" height=\"400\" frameborder=\"0\" marginwidth=\"0\" marginheight=\"0\" allowfullscreen></iframe>"
      ],
      "text/plain": [
       "<IPython.core.display.HTML object>"
      ]
     },
     "metadata": {},
     "output_type": "display_data"
    }
   ],
   "source": [
    "display(HTML('<iframe src=\"https://trinket.io/embed/blocks/06947cd48d?hideGeneratedCode=true\" width=\"100%\" height=\"400\" frameborder=\"0\" marginwidth=\"0\" marginheight=\"0\" allowfullscreen></iframe>'))"
   ]
  },
  {
   "cell_type": "markdown",
   "metadata": {
    "colab_type": "text",
    "id": "XMuV6acNxMCN",
    "slideshow": {
     "slide_type": "slide"
    }
   },
   "source": [
    "## Número Mágico\n",
    "\n",
    "Diseñe un algoritmo para determinar si un número natural $n$ es mágico o no.\n",
    "\n",
    "Un número se dice mágico cuando la suma de sus divisores es igual al número. En la suma no se debe considerar al mismo número como un divisor.\n",
    "\n",
    "***Ejemplos:***\n",
    "\n",
    "*   28 = 1+2+4+7+14 es un número mágico\n",
    "*   32 != 1+2+4+8+16 no es un número mágico\n",
    "\n"
   ]
  },
  {
   "cell_type": "code",
   "execution_count": 10,
   "metadata": {
    "colab": {
     "base_uri": "https://localhost:8080/",
     "height": 621
    },
    "colab_type": "code",
    "executionInfo": {
     "elapsed": 912,
     "status": "ok",
     "timestamp": 1551060020241,
     "user": {
      "displayName": "Sergio Campos",
      "photoUrl": "",
      "userId": "12155360713523385064"
     },
     "user_tz": 180
    },
    "id": "IsHR-W0ZvzXh",
    "outputId": "4af94687-043d-4435-ad74-9878aafd69fd",
    "slideshow": {
     "slide_type": "slide"
    }
   },
   "outputs": [
    {
     "data": {
      "text/html": [
       "<iframe src=\"https://trinket.io/embed/blocks/89e31ed0c6?hideGeneratedCode=true\" width=\"100%\" height=\"600\" frameborder=\"0\" marginwidth=\"0\" marginheight=\"0\" allowfullscreen></iframe>"
      ],
      "text/plain": [
       "<IPython.core.display.HTML object>"
      ]
     },
     "metadata": {},
     "output_type": "display_data"
    }
   ],
   "source": [
    "display(HTML('<iframe src=\"https://trinket.io/embed/blocks/89e31ed0c6?hideGeneratedCode=true\" width=\"100%\" height=\"600\" frameborder=\"0\" marginwidth=\"0\" marginheight=\"0\" allowfullscreen></iframe>'))"
   ]
  },
  {
   "cell_type": "markdown",
   "metadata": {
    "colab_type": "text",
    "id": "uaaL_yRJ0lJE",
    "slideshow": {
     "slide_type": "slide"
    }
   },
   "source": [
    "## Adivinar un Número\n",
    "\n",
    "Diseñe un algoritmo que intente adivinar un número entre 1 y 10."
   ]
  },
  {
   "cell_type": "code",
   "execution_count": 11,
   "metadata": {
    "colab": {
     "base_uri": "https://localhost:8080/",
     "height": 621
    },
    "colab_type": "code",
    "executionInfo": {
     "elapsed": 861,
     "status": "ok",
     "timestamp": 1551060020243,
     "user": {
      "displayName": "Sergio Campos",
      "photoUrl": "",
      "userId": "12155360713523385064"
     },
     "user_tz": 180
    },
    "id": "Ecmzqv5h0Z3k",
    "outputId": "11c0ba4b-19ca-4c60-9467-f22289c0af14",
    "slideshow": {
     "slide_type": "slide"
    }
   },
   "outputs": [
    {
     "data": {
      "text/html": [
       "<iframe src=\"https://trinket.io/embed/blocks/8d2ea4f73e?hideGeneratedCode=true\" width=\"100%\" height=\"600\" frameborder=\"0\" marginwidth=\"0\" marginheight=\"0\" allowfullscreen></iframe>"
      ],
      "text/plain": [
       "<IPython.core.display.HTML object>"
      ]
     },
     "metadata": {},
     "output_type": "display_data"
    }
   ],
   "source": [
    "display(HTML('<iframe src=\"https://trinket.io/embed/blocks/8d2ea4f73e?hideGeneratedCode=true\" width=\"100%\" height=\"600\" frameborder=\"0\" marginwidth=\"0\" marginheight=\"0\" allowfullscreen></iframe>'))"
   ]
  },
  {
   "cell_type": "code",
   "execution_count": null,
   "metadata": {
    "colab": {},
    "colab_type": "code",
    "id": "I0eZE80v2JiP",
    "slideshow": {
     "slide_type": "skip"
    }
   },
   "outputs": [],
   "source": []
  }
 ],
 "metadata": {
  "celltoolbar": "Slideshow",
  "colab": {
   "collapsed_sections": [],
   "name": "Clase03_Algoritmos_Trinket_2019.ipynb",
   "provenance": [],
   "version": "0.3.2"
  },
  "kernelspec": {
   "display_name": "Python 3",
   "language": "python",
   "name": "python3"
  },
  "language_info": {
   "codemirror_mode": {
    "name": "ipython",
    "version": 3
   },
   "file_extension": ".py",
   "mimetype": "text/x-python",
   "name": "python",
   "nbconvert_exporter": "python",
   "pygments_lexer": "ipython3",
   "version": "3.6.8"
  }
 },
 "nbformat": 4,
 "nbformat_minor": 1
}
