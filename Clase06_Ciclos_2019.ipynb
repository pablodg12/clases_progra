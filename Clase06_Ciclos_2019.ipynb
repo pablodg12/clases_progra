{
 "cells": [
  {
   "cell_type": "markdown",
   "metadata": {
    "colab_type": "text",
    "id": "myM2e0xjJFKK",
    "slideshow": {
     "slide_type": "slide"
    }
   },
   "source": [
    "<img src=\"images/di.png\" alt=\"\" width=\"200px\" align=\"left\"/>\n",
    "<img src=\"images/utfsm.png\" alt=\"\" width=\"150px\" align=\"right\"/>\n",
    "\n",
    "<br/>\n",
    "<div align=\"center\">\n",
    "<h1>IWI131 Programación</h1><br/>\n",
    "<h2>Estructuras Repetitivas y Ciclos</h2>\n",
    "<br/><br/>\n",
    "Departamento de Informática<br/>\n",
    "Universidad Técnica Federico Santa María\n",
    "</div>"
   ]
  },
  {
   "cell_type": "markdown",
   "metadata": {
    "slideshow": {
     "slide_type": "slide"
    }
   },
   "source": [
    "## Sentencias Cíclicas\n",
    "\n",
    "Permiten realizar un conjunto instrucciones reiterativamente. Esta reiteración puede:\n",
    "- Ser una cantidad de terminada de veces.\n",
    "- Hasta que una condición se cumpla.\n",
    "\n",
    "**OJO**: Notése que una cantidad finita de veces puede ser representada como condición."
   ]
  },
  {
   "cell_type": "markdown",
   "metadata": {
    "colab_type": "text",
    "id": "8F0jSoc0JFN1",
    "slideshow": {
     "slide_type": "slide"
    }
   },
   "source": [
    "### Ciclo while\n",
    "El ciclo `while` ejecuta una secuencia de instrucciones mientras una condición sea verdadera. "
   ]
  },
  {
   "cell_type": "markdown",
   "metadata": {
    "slideshow": {
     "slide_type": "fragment"
    }
   },
   "source": [
    "**Sintaxis:**\n",
    "```python\n",
    "while cond:\n",
    "    sentencias mientras la cond sea verdadera\n",
    "```"
   ]
  },
  {
   "cell_type": "markdown",
   "metadata": {
    "colab_type": "text",
    "id": "b6t437drJFN2",
    "slideshow": {
     "slide_type": "fragment"
    }
   },
   "source": [
    "La **Indentación** después de la instrucción `while` indica que cosas se realizarán reiterativamente si se cumple la condición."
   ]
  },
  {
   "cell_type": "markdown",
   "metadata": {
    "slideshow": {
     "slide_type": "slide"
    }
   },
   "source": [
    "### Recordatorio/Reminder\n",
    "\n",
    "La instrucción `while` equivalente al bloque `repeat-while` de trinket."
   ]
  },
  {
   "cell_type": "markdown",
   "metadata": {
    "slideshow": {
     "slide_type": "fragment"
    }
   },
   "source": [
    "La **indentación** es equivalente a utilizar el espacio de rompecabezas interno en bloque `repeat-while` de *Trinket* (después de `do`)."
   ]
  },
  {
   "cell_type": "code",
   "execution_count": 1,
   "metadata": {
    "slideshow": {
     "slide_type": "fragment"
    }
   },
   "outputs": [
    {
     "data": {
      "text/html": [
       "\n",
       "        <iframe\n",
       "            width=\"75%\"\n",
       "            height=\"250\"\n",
       "            src=\"https://trinket.io/embed/blocks/773558e03a?hideGeneratedCode=true\"\n",
       "            frameborder=\"0\"\n",
       "            allowfullscreen\n",
       "        ></iframe>\n",
       "        "
      ],
      "text/plain": [
       "<IPython.lib.display.IFrame at 0x10ce51dd8>"
      ]
     },
     "execution_count": 1,
     "metadata": {},
     "output_type": "execute_result"
    }
   ],
   "source": [
    "from IPython.display import IFrame\n",
    "IFrame('https://trinket.io/embed/blocks/773558e03a?hideGeneratedCode=true', width=\"75%\", height=250)"
   ]
  },
  {
   "cell_type": "markdown",
   "metadata": {
    "colab_type": "text",
    "id": "lpZbiw8JJFN3",
    "slideshow": {
     "slide_type": "slide"
    }
   },
   "source": [
    "## Ciclo while: Diagrama de flujo explicativo\n",
    "<center>\n",
    "<img src=\"images/while.png\" width=\"40%\">\n",
    "</center>"
   ]
  },
  {
   "cell_type": "markdown",
   "metadata": {
    "slideshow": {
     "slide_type": "slide"
    }
   },
   "source": [
    "## Conceptos y detalles importantes\n",
    "\n",
    "**Sintaxis:**\n",
    "```python\n",
    "while cond:\n",
    "    sentencias mientras la cond sea verdadera\n",
    "```"
   ]
  },
  {
   "cell_type": "markdown",
   "metadata": {
    "colab_type": "text",
    "id": "Ag0bnV_TJFN5",
    "slideshow": {
     "slide_type": "fragment"
    }
   },
   "source": [
    "- **Iteración:** es una ejecución del cuerpo del ciclo. Cada vez que se ejecuten las sentencias del ciclo se habla de iteración.\n",
    "- La condición es evaluada **antes** de cada iteración.\n",
    "- Si la condición es *inicialmente falsa*, el ciclo **no se ejecutará**."
   ]
  },
  {
   "cell_type": "markdown",
   "metadata": {
    "slideshow": {
     "slide_type": "slide"
    }
   },
   "source": [
    "## ¿Entendemos `while`?\n",
    "\n",
    "* ¿Qué realiza el siguiente ejemplo?"
   ]
  },
  {
   "cell_type": "code",
   "execution_count": 2,
   "metadata": {
    "colab": {},
    "colab_type": "code",
    "id": "jD-W65DVJFN7",
    "outputId": "ca1f5719-bfed-4d6d-9f66-efd7e0915819",
    "slideshow": {
     "slide_type": "fragment"
    }
   },
   "outputs": [
    {
     "name": "stdout",
     "output_type": "stream",
     "text": [
      "m: 3\n",
      "n: 4\n",
      "El producto de m y n es: 12\n"
     ]
    }
   ],
   "source": [
    "m = int(input(\"m: \"))\n",
    "n = int(input(\"n: \"))\n",
    "k = 0\n",
    "\n",
    "while m > 0:\n",
    "    m = m - 1 \n",
    "    k = k + n\n",
    "\n",
    "print(\"El producto de m y n es:\",k)"
   ]
  },
  {
   "cell_type": "markdown",
   "metadata": {
    "colab_type": "text",
    "id": "OHZpLYfIJFOC",
    "slideshow": {
     "slide_type": "fragment"
    }
   },
   "source": [
    "* ¿Cómo realiza la operación?\n",
    "* ¿Cómo se asegura que en algún momento se termine el ciclo?"
   ]
  },
  {
   "cell_type": "markdown",
   "metadata": {
    "colab_type": "text",
    "id": "nNFC14zaJFOE",
    "slideshow": {
     "slide_type": "slide"
    }
   },
   "source": [
    "## Uso de Ciclos\n",
    "\n",
    "¿Necesito usar un ciclo? <br/><br/>\n",
    "\n",
    "Evaluar si en la siguiente situación deberíamos usar un ciclo. "
   ]
  },
  {
   "cell_type": "markdown",
   "metadata": {
    "colab_type": "text",
    "id": "kOnhFeo9JFOH",
    "slideshow": {
     "slide_type": "slide"
    }
   },
   "source": [
    "**1.** Escriba un programa que calcule el promedio de sus notas de certamenes de programación (IWI131)."
   ]
  },
  {
   "cell_type": "code",
   "execution_count": 3,
   "metadata": {
    "colab": {},
    "colab_type": "code",
    "id": "mr0DGQJ0JFOJ",
    "outputId": "6cb141ea-14b8-4d5c-c56f-0c4bc1dbbfb1",
    "slideshow": {
     "slide_type": "fragment"
    }
   },
   "outputs": [
    {
     "name": "stdout",
     "output_type": "stream",
     "text": [
      "Ingrese nota C1: 70\n",
      "Ingrese nota C2: 50\n",
      "Ingrese nota C3: 60\n",
      "Su promedio es: 60\n"
     ]
    }
   ],
   "source": [
    "n1 = int(input('Ingrese nota C1: '))\n",
    "n2 = int(input('Ingrese nota C2: '))\n",
    "n3 = int(input('Ingrese nota C3: '))\n",
    "print(\"Su promedio es:\", int(round((n1+n2+n3)/3)))"
   ]
  },
  {
   "cell_type": "markdown",
   "metadata": {
    "colab_type": "text",
    "id": "kOnhFeo9JFOH",
    "slideshow": {
     "slide_type": "slide"
    }
   },
   "source": [
    "**1b.** Escriba un programa que calcule el promedio las notas del certamen 1 de un paralelo de IWI131. (Nótese que generalmente los paralelos no tienen la misma cantidad de alumnos)"
   ]
  },
  {
   "cell_type": "code",
   "execution_count": 4,
   "metadata": {
    "colab": {},
    "colab_type": "code",
    "id": "mr0DGQJ0JFOJ",
    "outputId": "6cb141ea-14b8-4d5c-c56f-0c4bc1dbbfb1",
    "slideshow": {
     "slide_type": "fragment"
    }
   },
   "outputs": [
    {
     "name": "stdout",
     "output_type": "stream",
     "text": [
      "Ingrese la cantidad de alumnos: 4\n",
      "Ingrese nota: 70\n",
      "Ingrese nota: 50\n",
      "Ingrese nota: 60\n",
      "Ingrese nota: 60\n",
      "El promedio del paralelo es: 60\n"
     ]
    }
   ],
   "source": [
    "cant = int(input(\"Ingrese la cantidad de alumnos: \"))\n",
    "\n",
    "cont = 0 #contador de alumnos/notas ingresadas\n",
    "suma = 0 #notas acumuladas\n",
    "\n",
    "while cont < cant:\n",
    "    nota = int(input(\"Ingrese nota: \"))\n",
    "    suma = suma + nota\n",
    "    cont = cont + 1\n",
    "    \n",
    "print(\"El promedio del paralelo es:\", int(round(suma/cont)))"
   ]
  },
  {
   "cell_type": "markdown",
   "metadata": {
    "colab_type": "text",
    "id": "kOnhFeo9JFOH",
    "slideshow": {
     "slide_type": "slide"
    }
   },
   "source": [
    "**1c.** Escriba un programa que calcule el promedio las notas de varios alumnos. Se ingresarán notas hasta que se ingrese el valor **-1**."
   ]
  },
  {
   "cell_type": "code",
   "execution_count": 5,
   "metadata": {
    "colab": {},
    "colab_type": "code",
    "id": "mr0DGQJ0JFOJ",
    "outputId": "6cb141ea-14b8-4d5c-c56f-0c4bc1dbbfb1",
    "slideshow": {
     "slide_type": "fragment"
    }
   },
   "outputs": [
    {
     "name": "stdout",
     "output_type": "stream",
     "text": [
      "Ingrese nota: 40\n",
      "Ingrese nota: 50\n",
      "Ingrese nota: 60\n",
      "Ingrese nota: -1\n",
      "El promedio es: 50\n"
     ]
    }
   ],
   "source": [
    "cont=0 #contador de cantidad notas ingresadas\n",
    "suma=0 #notas acumuladas\n",
    "\n",
    "nota = int(input(\"Ingrese nota: \"))\n",
    "\n",
    "while nota != -1:\n",
    "    suma = suma + nota\n",
    "    cont += 1 #cont = cont + 1\n",
    "    nota = int(input(\"Ingrese nota: \"))\n",
    "    \n",
    "print(\"El promedio es:\", int(round(suma/cont)))"
   ]
  },
  {
   "cell_type": "markdown",
   "metadata": {
    "colab_type": "text",
    "id": "kOnhFeo9JFOH",
    "slideshow": {
     "slide_type": "slide"
    }
   },
   "source": [
    "**1c.** Escriba un programa que calcule el promedio las notas de varios alumnos. Se ingresarán notas hasta que se ingrese el valor **-1**."
   ]
  },
  {
   "cell_type": "code",
   "execution_count": 6,
   "metadata": {
    "colab": {},
    "colab_type": "code",
    "id": "mr0DGQJ0JFOJ",
    "outputId": "6cb141ea-14b8-4d5c-c56f-0c4bc1dbbfb1",
    "slideshow": {
     "slide_type": "fragment"
    }
   },
   "outputs": [
    {
     "name": "stdout",
     "output_type": "stream",
     "text": [
      "Ingrese nota: 40\n",
      "Ingrese nota: 50\n",
      "Ingrese nota: 60\n",
      "Ingrese nota: -1\n",
      "El promedio es: 50\n"
     ]
    }
   ],
   "source": [
    "flag = True # bandera que indica si condicion se cumple\n",
    "cont=0 #contador de cantidad notas ingresadas\n",
    "suma=0 #notas acumuladas\n",
    "\n",
    "while flag: #flag==True\n",
    "    nota = int(input(\"Ingrese nota: \"))\n",
    "    if nota==-1:\n",
    "        flag=False\n",
    "    else:\n",
    "        suma += nota #suma = suma + nota\n",
    "        cont += 1 #cont = cont + 1\n",
    "\n",
    "print(\"El promedio es:\", int(round(suma/cont)))"
   ]
  },
  {
   "cell_type": "markdown",
   "metadata": {
    "slideshow": {
     "slide_type": "slide"
    }
   },
   "source": [
    "## Patrones Comunes\n",
    "\n",
    "**Patrón**: Solución aplicable a un prolema que ocurre a menudo."
   ]
  },
  {
   "cell_type": "markdown",
   "metadata": {
    "slideshow": {
     "slide_type": "fragment"
    }
   },
   "source": [
    "1. Sumar cosas\n",
    "2. Multiplicar cosas\n",
    "3. Contar cosas\n",
    "4. Encontrar el máximo\n",
    "5. Encontrar el mínimo\n",
    "6. Generar pares de cosas"
   ]
  },
  {
   "cell_type": "markdown",
   "metadata": {
    "slideshow": {
     "slide_type": "slide"
    }
   },
   "source": [
    "### 1. Sumar cosas"
   ]
  },
  {
   "cell_type": "markdown",
   "metadata": {
    "slideshow": {
     "slide_type": "fragment"
    }
   },
   "source": [
    "Escriba un programa que reciba como entrada un número entero. El programa debe mostrar el resultado de la suma de los números al cuadrado desde el 1 hasta el valor ingresado.\n",
    "$$\n",
    "1^2+2^2+\\ldots+(n-1)^2+n^2\n",
    "$$"
   ]
  },
  {
   "cell_type": "code",
   "execution_count": 7,
   "metadata": {
    "slideshow": {
     "slide_type": "fragment"
    }
   },
   "outputs": [
    {
     "name": "stdout",
     "output_type": "stream",
     "text": [
      "Ingrese n: 4\n",
      "La suma de los numeros al cuadrado es: 30\n"
     ]
    }
   ],
   "source": [
    "n = int(input(\"Ingrese n: \"))\n",
    "suma = 0\n",
    "cont = 1\n",
    "\n",
    "while cont <= n:\n",
    "    d = cont**2\n",
    "    #print(\"d\", d)\n",
    "    suma = suma + d\n",
    "    #print(\"suma\", suma)\n",
    "    cont += 1\n",
    "\n",
    "print(\"La suma de los numeros al cuadrado es:\", suma)"
   ]
  },
  {
   "cell_type": "markdown",
   "metadata": {
    "slideshow": {
     "slide_type": "slide"
    }
   },
   "source": [
    "**Sintaxis sumar cosas:**\n",
    "```Python\n",
    "suma = 0\n",
    "ciclo:\n",
    "    n = calcular()\n",
    "    suma = suma + n\n",
    "```"
   ]
  },
  {
   "cell_type": "markdown",
   "metadata": {
    "slideshow": {
     "slide_type": "fragment"
    }
   },
   "source": [
    "¿Cuáles son los elementos de este patrón?"
   ]
  },
  {
   "cell_type": "markdown",
   "metadata": {
    "slideshow": {
     "slide_type": "slide"
    }
   },
   "source": [
    "### 2. Multiplicar cosas"
   ]
  },
  {
   "cell_type": "markdown",
   "metadata": {
    "slideshow": {
     "slide_type": "fragment"
    }
   },
   "source": [
    "Escriba una programa que calcule el factorial de un número $n$ ingresada como entrada:\n",
    "$3! = 1\\cdot 2 \\cdot 3$"
   ]
  },
  {
   "cell_type": "code",
   "execution_count": 8,
   "metadata": {
    "slideshow": {
     "slide_type": "fragment"
    }
   },
   "outputs": [
    {
     "name": "stdout",
     "output_type": "stream",
     "text": [
      "Ingrese n: 4\n",
      "El factorial de 4 es: 24\n"
     ]
    }
   ],
   "source": [
    "n = int(input(\"Ingrese n: \"))\n",
    "\n",
    "if n < 0:\n",
    "    print(\"El factorial está definido sólo para números naturales mayores o igual que 0.\")\n",
    "else:\n",
    "    prod = 1\n",
    "    cont = 1\n",
    "    \n",
    "    while cont <= n:\n",
    "        prod  = prod * cont #prod *= cont\n",
    "        cont += 1 #cont = cont + 1\n",
    "    \n",
    "    print(\"El factorial de\", n, \"es:\", prod)"
   ]
  },
  {
   "cell_type": "markdown",
   "metadata": {
    "slideshow": {
     "slide_type": "slide"
    }
   },
   "source": [
    "**Sintaxis multiplicar cosas:**\n",
    "```Python\n",
    "producto = 1\n",
    "ciclo:\n",
    "    n = calcular()\n",
    "    producto = producto * n\n",
    "```"
   ]
  },
  {
   "cell_type": "markdown",
   "metadata": {
    "slideshow": {
     "slide_type": "fragment"
    }
   },
   "source": [
    "¿Cuáles son los elementos de este patrón?"
   ]
  },
  {
   "cell_type": "markdown",
   "metadata": {
    "slideshow": {
     "slide_type": "slide"
    }
   },
   "source": [
    "### 3. Contar cosas"
   ]
  },
  {
   "cell_type": "markdown",
   "metadata": {
    "slideshow": {
     "slide_type": "fragment"
    }
   },
   "source": [
    "Escriba un programa que solicite el ingreso de $n$ números, luego entregue la cantidad de números pares ingresados."
   ]
  },
  {
   "cell_type": "code",
   "execution_count": 9,
   "metadata": {
    "slideshow": {
     "slide_type": "fragment"
    }
   },
   "outputs": [
    {
     "name": "stdout",
     "output_type": "stream",
     "text": [
      "Ingrese n: 5\n",
      "Ingrese numero: 1\n",
      "pares = 0\n",
      "Ingrese numero: 4\n",
      "pares = 1\n",
      "Ingrese numero: 2\n",
      "pares = 2\n",
      "Ingrese numero: 6\n",
      "pares = 3\n",
      "Ingrese numero: 3\n",
      "pares = 3\n",
      "La cantidad de pares ingresados es: 3\n"
     ]
    }
   ],
   "source": [
    "n = int(input(\"Ingrese n: \"))\n",
    "pares = 0 #contador de pares\n",
    "cont = 0 #contador de numeros\n",
    "\n",
    "while cont < n:\n",
    "    num = int(input(\"Ingrese numero: \"))\n",
    "\n",
    "    if num % 2 == 0: #si es divisible por 2\n",
    "        pares += 1 #pares = pares + 1\n",
    "    \n",
    "    print(\"pares =\", pares)\n",
    "    cont += 1 #cont = cont + 1 \n",
    "\n",
    "print(\"La cantidad de pares ingresados es:\", pares)"
   ]
  },
  {
   "cell_type": "markdown",
   "metadata": {
    "slideshow": {
     "slide_type": "slide"
    }
   },
   "source": [
    "**Sintaxis contar cosas:**\n",
    "```Python\n",
    "cuenta = 0\n",
    "ciclo:\n",
    "    if condicion:\n",
    "        cuenta = cuenta + 1\n",
    "```"
   ]
  },
  {
   "cell_type": "markdown",
   "metadata": {
    "slideshow": {
     "slide_type": "fragment"
    }
   },
   "source": [
    "¿Cuáles son los elementos de este patrón?"
   ]
  },
  {
   "cell_type": "markdown",
   "metadata": {
    "slideshow": {
     "slide_type": "slide"
    }
   },
   "source": [
    "### 4. Encontrar el máximo"
   ]
  },
  {
   "cell_type": "markdown",
   "metadata": {
    "slideshow": {
     "slide_type": "fragment"
    }
   },
   "source": [
    "Escribir un programa que solicite n números y luego muestre el número mayor que haya sido ingresado."
   ]
  },
  {
   "cell_type": "markdown",
   "metadata": {
    "slideshow": {
     "slide_type": "fragment"
    }
   },
   "source": [
    "**Opción 1:** usando un número muy pequeño para comparar."
   ]
  },
  {
   "cell_type": "code",
   "execution_count": 13,
   "metadata": {
    "slideshow": {
     "slide_type": "fragment"
    }
   },
   "outputs": [
    {
     "name": "stdout",
     "output_type": "stream",
     "text": [
      "Ingrese n: 6\n",
      "Ingrese numero: 7.5\n",
      "mayor temp = 7.5\n",
      "Ingrese numero: 3.1\n",
      "mayor temp = 7.5\n",
      "Ingrese numero: 2\n",
      "mayor temp = 7.5\n",
      "Ingrese numero: 9.0\n",
      "mayor temp = 9.0\n",
      "Ingrese numero: 8.5\n",
      "mayor temp = 9.0\n",
      "Ingrese numero: 2.5\n",
      "mayor temp = 9.0\n",
      "El numero mayor es: 9.0\n"
     ]
    }
   ],
   "source": [
    "n = int(input(\"Ingrese n: \"))\n",
    "i = 1\n",
    "mayor = float(\"-inf\")\n",
    "\n",
    "while i <= n:\n",
    "    mensaje = \"Ingrese numero: \"\n",
    "    numero =  float(input(mensaje))\n",
    "\n",
    "    if mayor < numero:\n",
    "        mayor = numero\n",
    "    \n",
    "    print(\"mayor temp =\", mayor)\n",
    "    i += 1\n",
    "\n",
    "print(\"El numero mayor es:\", mayor)"
   ]
  },
  {
   "cell_type": "markdown",
   "metadata": {
    "slideshow": {
     "slide_type": "slide"
    }
   },
   "source": [
    "**Opción 2:** sin usar número muy pequeño para comparar."
   ]
  },
  {
   "cell_type": "code",
   "execution_count": 14,
   "metadata": {
    "slideshow": {
     "slide_type": "fragment"
    }
   },
   "outputs": [
    {
     "name": "stdout",
     "output_type": "stream",
     "text": [
      "Ingrese n: 5\n",
      "Ingrese numero: 1.1\n",
      "Ingrese numero: 3.5\n",
      "Ingrese numero: 4.23\n",
      "Ingrese numero: 2.5\n",
      "Ingrese numero: 2.3\n",
      "El numero mayor es 4.23\n"
     ]
    }
   ],
   "source": [
    "n = int(input(\"Ingrese n: \"))\n",
    "i = 1\n",
    "\n",
    "while i <= n:\n",
    "    mensaje = \"Ingrese numero: \"\n",
    "    numero =  float(input(mensaje))\n",
    "\n",
    "    if i == 1:\n",
    "        mayor = numero\n",
    "    elif mayor < numero:\n",
    "        mayor = numero\n",
    "    i += 1\n",
    "\n",
    "print(\"El numero mayor es\", mayor)"
   ]
  },
  {
   "cell_type": "markdown",
   "metadata": {
    "slideshow": {
     "slide_type": "slide"
    }
   },
   "source": [
    "### **Sintaxis encontrar el máximo:**\n",
    "```Python\n",
    "mayor = numero_muy_chico\n",
    "ciclo:\n",
    "    n = calcular()\n",
    "    if n > mayor:\n",
    "        mayor = n\n",
    "```"
   ]
  },
  {
   "cell_type": "markdown",
   "metadata": {
    "slideshow": {
     "slide_type": "fragment"
    }
   },
   "source": [
    "¿Cuáles son los elementos de este patrón?"
   ]
  },
  {
   "cell_type": "markdown",
   "metadata": {
    "slideshow": {
     "slide_type": "slide"
    }
   },
   "source": [
    "### 5. Encontrar el mínimo"
   ]
  },
  {
   "cell_type": "markdown",
   "metadata": {
    "slideshow": {
     "slide_type": "fragment"
    }
   },
   "source": [
    "¿Cómo cambia el patrón anterior si ahora se quiere encontrar el mínimo?"
   ]
  },
  {
   "cell_type": "code",
   "execution_count": 15,
   "metadata": {
    "slideshow": {
     "slide_type": "fragment"
    }
   },
   "outputs": [
    {
     "name": "stdout",
     "output_type": "stream",
     "text": [
      "Ingrese n: 6\n",
      "Ingrese numero: 10\n",
      "Ingrese numero: 4.3\n",
      "Ingrese numero: 5.3\n",
      "Ingrese numero: 6.3\n",
      "Ingrese numero: 5.1\n",
      "Ingrese numero: 1.5\n",
      "El numero menor es: 1.5\n"
     ]
    }
   ],
   "source": [
    "n = int(input(\"Ingrese n: \"))\n",
    "i = 1\n",
    "menor = float(\"inf\")\n",
    "\n",
    "while i <= n:\n",
    "    mensaje = \"Ingrese numero: \"\n",
    "    numero =  float(input(mensaje))\n",
    "\n",
    "    if menor > numero:\n",
    "        menor = numero\n",
    "    i += 1\n",
    "\n",
    "print(\"El numero menor es:\", menor)"
   ]
  },
  {
   "cell_type": "markdown",
   "metadata": {
    "slideshow": {
     "slide_type": "slide"
    }
   },
   "source": [
    "**Sintaxis encontrar el mínimo:**\n",
    "```Python\n",
    "menor = numero_muy_grande\n",
    "ciclo:\n",
    "    n = calcular()\n",
    "    if n < menor:\n",
    "        menor = n\n",
    "```"
   ]
  },
  {
   "cell_type": "markdown",
   "metadata": {
    "slideshow": {
     "slide_type": "slide"
    }
   },
   "source": [
    "### 6. Generar Pares de cosas"
   ]
  },
  {
   "cell_type": "markdown",
   "metadata": {
    "slideshow": {
     "slide_type": "fragment"
    }
   },
   "source": [
    "Escribir un programa que muestre todas las combinaciones posibles al lanzar 2 dados."
   ]
  },
  {
   "cell_type": "code",
   "execution_count": 17,
   "metadata": {
    "scrolled": false,
    "slideshow": {
     "slide_type": "fragment"
    }
   },
   "outputs": [
    {
     "name": "stdout",
     "output_type": "stream",
     "text": [
      "1 1\n",
      "1 2\n",
      "1 3\n",
      "1 4\n",
      "1 5\n",
      "1 6\n",
      "2 1\n",
      "2 2\n",
      "2 3\n",
      "2 4\n",
      "2 5\n",
      "2 6\n",
      "3 1\n",
      "3 2\n",
      "3 3\n",
      "3 4\n",
      "3 5\n",
      "3 6\n",
      "4 1\n",
      "4 2\n",
      "4 3\n",
      "4 4\n",
      "4 5\n",
      "4 6\n",
      "5 1\n",
      "5 2\n",
      "5 3\n",
      "5 4\n",
      "5 5\n",
      "5 6\n",
      "6 1\n",
      "6 2\n",
      "6 3\n",
      "6 4\n",
      "6 5\n",
      "6 6\n"
     ]
    }
   ],
   "source": [
    "n = 6\n",
    "m = 6\n",
    "i = 0\n",
    "contador = 0\n",
    "while i < n:\n",
    "    j = 0\n",
    "    i += 1\n",
    "    while j < m:\n",
    "        j += 1\n",
    "        contador +=1\n",
    "        print(i,j)"
   ]
  },
  {
   "cell_type": "markdown",
   "metadata": {
    "colab_type": "text",
    "id": "aw-tGZ5uJFOq",
    "slideshow": {
     "slide_type": "slide"
    }
   },
   "source": [
    "## Conclusiones"
   ]
  },
  {
   "cell_type": "markdown",
   "metadata": {
    "colab_type": "text",
    "id": "vmEYcAQmJFOs",
    "slideshow": {
     "slide_type": "fragment"
    }
   },
   "source": [
    "- Depende. A veces hay operaciones que se deben hacer **muchas veces**.\n",
    "- Un ciclo es **recomendado** cuando una misma operación se debe repetir, pero cambiando algo ligeramente.\n",
    "- Los ciclos son útiles, pero peligrosos si no se tiene cuidado de la condición "
   ]
  },
  {
   "cell_type": "markdown",
   "metadata": {
    "slideshow": {
     "slide_type": "slide"
    }
   },
   "source": [
    "## Ejercicio 1\n",
    "\n",
    "### Conjetura de Ulam\n",
    "\n",
    "A partir de un número cualquiera (entrada) es posible hacer una sucesión de números que termina en 1.\n",
    "- Si el número es par, se debe dividir por 2.\n",
    "- Si el número es impar, se debe multiplicar por 3 y sumarle 1.\n",
    "\n",
    "Con esto se obtiene el siguiente número de la sucesión, al cual se le deben aplicar las mismas operaciones. La sucesión de números termina cuando el número obtenido por medio de las operaciones es 1."
   ]
  },
  {
   "cell_type": "code",
   "execution_count": 24,
   "metadata": {
    "slideshow": {
     "slide_type": "slide"
    }
   },
   "outputs": [
    {
     "data": {
      "text/html": [
       "\n",
       "        <iframe\n",
       "            width=\"100%\"\n",
       "            height=\"500\"\n",
       "            src=\"https://trinket.io/embed/blocks/06947cd48d?hideGeneratedCode=true\"\n",
       "            frameborder=\"0\"\n",
       "            allowfullscreen\n",
       "        ></iframe>\n",
       "        "
      ],
      "text/plain": [
       "<IPython.lib.display.IFrame at 0x7f806891eef0>"
      ]
     },
     "execution_count": 24,
     "metadata": {},
     "output_type": "execute_result"
    }
   ],
   "source": [
    "from IPython.display import IFrame\n",
    "IFrame(\"https://trinket.io/embed/blocks/06947cd48d?hideGeneratedCode=true\", width=\"100%\", height=500)"
   ]
  },
  {
   "cell_type": "code",
   "execution_count": 19,
   "metadata": {
    "slideshow": {
     "slide_type": "slide"
    }
   },
   "outputs": [
    {
     "name": "stdout",
     "output_type": "stream",
     "text": [
      "Inicio: 120\n",
      "120\n",
      "60\n",
      "30\n",
      "15\n",
      "46\n",
      "23\n",
      "70\n",
      "35\n",
      "106\n",
      "53\n",
      "160\n",
      "80\n",
      "40\n",
      "20\n",
      "10\n",
      "5\n",
      "16\n",
      "8\n",
      "4\n",
      "2\n",
      "1\n"
     ]
    }
   ],
   "source": [
    "t= int(input('Inicio: '))\n",
    "\n",
    "while t != 1:\n",
    "    print(int(t))\n",
    "    if t % 2 == 0:\n",
    "        t = t/2\n",
    "    else: \n",
    "        t = (3*t) + 1\n",
    "        \n",
    "print(int(t))"
   ]
  },
  {
   "cell_type": "markdown",
   "metadata": {
    "slideshow": {
     "slide_type": "slide"
    }
   },
   "source": [
    "## Ejercicio 2\n",
    "\n",
    "Escriba un programa que determine si un número es **primo** o **compuesto**."
   ]
  },
  {
   "cell_type": "code",
   "execution_count": 25,
   "metadata": {
    "colab": {},
    "colab_type": "code",
    "id": "j-MwSyKmJFOt",
    "slideshow": {
     "slide_type": "fragment"
    }
   },
   "outputs": [
    {
     "data": {
      "text/html": [
       "\n",
       "        <iframe\n",
       "            width=\"100%\"\n",
       "            height=\"500\"\n",
       "            src=\"https://trinket.io/embed/blocks/f1d62613e6?hideGeneratedCode=true\"\n",
       "            frameborder=\"0\"\n",
       "            allowfullscreen\n",
       "        ></iframe>\n",
       "        "
      ],
      "text/plain": [
       "<IPython.lib.display.IFrame at 0x7f806891e198>"
      ]
     },
     "execution_count": 25,
     "metadata": {},
     "output_type": "execute_result"
    }
   ],
   "source": [
    "from IPython.display import IFrame\n",
    "IFrame('https://trinket.io/embed/blocks/f1d62613e6?hideGeneratedCode=true', width=\"100%\", height=500)"
   ]
  },
  {
   "cell_type": "code",
   "execution_count": 21,
   "metadata": {
    "slideshow": {
     "slide_type": "slide"
    }
   },
   "outputs": [
    {
     "name": "stdout",
     "output_type": "stream",
     "text": [
      "n: 37\n",
      "Es primo\n"
     ]
    }
   ],
   "source": [
    "n=int(input(\"n: \"))\n",
    "es_primo = True\n",
    "d = 2\n",
    "\n",
    "while d<n and es_primo:\n",
    "    if n%2 == 0:\n",
    "        es_primo = False\n",
    "    d = d+1\n",
    "\n",
    "if es_primo:\n",
    "    print(\"Es primo\")\n",
    "else:\n",
    "    print(\"Es compuesto\")"
   ]
  },
  {
   "cell_type": "markdown",
   "metadata": {
    "slideshow": {
     "slide_type": "slide"
    }
   },
   "source": [
    "## Ejercicio 3\n",
    "\n",
    "Utilizando el programa diseñado anteriormente para determinar si un número es primo o compuesto. Realice el ruteo para los siguientes valores:\n",
    "* 5\n",
    "* 9"
   ]
  },
  {
   "cell_type": "code",
   "execution_count": null,
   "metadata": {
    "slideshow": {
     "slide_type": "skip"
    }
   },
   "outputs": [],
   "source": []
  }
 ],
 "metadata": {
  "celltoolbar": "Slideshow",
  "colab": {
   "name": "05_Condicionales_Ciclos_2018.ipynb",
   "provenance": [],
   "version": "0.3.2"
  },
  "kernelspec": {
   "display_name": "Python 3",
   "language": "python",
   "name": "python3"
  },
  "language_info": {
   "codemirror_mode": {
    "name": "ipython",
    "version": 3
   },
   "file_extension": ".py",
   "mimetype": "text/x-python",
   "name": "python",
   "nbconvert_exporter": "python",
   "pygments_lexer": "ipython3",
   "version": "3.6.7"
  }
 },
 "nbformat": 4,
 "nbformat_minor": 1
}
